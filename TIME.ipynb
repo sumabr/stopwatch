{
  "nbformat": 4,
  "nbformat_minor": 0,
  "metadata": {
    "colab": {
      "name": "TIME.ipynb",
      "provenance": [],
      "collapsed_sections": []
    },
    "kernelspec": {
      "name": "python3",
      "display_name": "Python 3"
    },
    "language_info": {
      "name": "python"
    }
  },
  "cells": [
    {
      "cell_type": "code",
      "metadata": {
        "colab": {
          "base_uri": "https://localhost:8080/"
        },
        "id": "loNECOS-HMWy",
        "outputId": "f4273239-e43f-46b0-d9c7-6ea15c2633ca"
      },
      "source": [
        "import time\n",
        "print(\"press the ENTER key to start \")\n",
        "print(\"press the CTRL+c to exit timer\")\n",
        "while True:\n",
        "    try:\n",
        "        input()\n",
        "        start = time.time()\n",
        "        print(\"Started\")\n",
        "    except KeyboardInterrupt:\n",
        "        print(\"Stopped\")\n",
        "        end = time.time()\n",
        "        print(\"Total Time: \",round(end-start,2),\"Seconds\")\n",
        "        break\n",
        "        "
      ],
      "execution_count": null,
      "outputs": [
        {
          "output_type": "stream",
          "name": "stdout",
          "text": [
            "press the ENTER key to start \n",
            "press the CTRL+c to exit timer\n",
            "\n",
            "Started\n"
          ]
        }
      ]
    },
    {
      "cell_type": "code",
      "metadata": {
        "id": "tbyC0SF0Hl6T"
      },
      "source": [
        ""
      ],
      "execution_count": null,
      "outputs": []
    }
  ]
}